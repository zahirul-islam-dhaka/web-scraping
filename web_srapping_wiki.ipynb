{
  "nbformat": 4,
  "nbformat_minor": 0,
  "metadata": {
    "colab": {
      "provenance": []
    },
    "kernelspec": {
      "name": "python3",
      "display_name": "Python 3"
    },
    "language_info": {
      "name": "python"
    }
  },
  "cells": [
    {
      "cell_type": "code",
      "execution_count": 56,
      "metadata": {
        "colab": {
          "base_uri": "https://localhost:8080/"
        },
        "id": "_QcGgw1tc9_Q",
        "outputId": "b4f7d7d8-95ee-4330-8743-8dc8a8d9ce1a"
      },
      "outputs": [
        {
          "output_type": "stream",
          "name": "stdout",
          "text": [
            "Requirement already satisfied: pandas in /usr/local/lib/python3.11/dist-packages (2.2.2)\n",
            "Requirement already satisfied: requests in /usr/local/lib/python3.11/dist-packages (2.32.3)\n",
            "Requirement already satisfied: beautifulsoup4 in /usr/local/lib/python3.11/dist-packages (4.13.4)\n",
            "Requirement already satisfied: lxml in /usr/local/lib/python3.11/dist-packages (5.4.0)\n",
            "Requirement already satisfied: numpy>=1.23.2 in /usr/local/lib/python3.11/dist-packages (from pandas) (2.0.2)\n",
            "Requirement already satisfied: python-dateutil>=2.8.2 in /usr/local/lib/python3.11/dist-packages (from pandas) (2.9.0.post0)\n",
            "Requirement already satisfied: pytz>=2020.1 in /usr/local/lib/python3.11/dist-packages (from pandas) (2025.2)\n",
            "Requirement already satisfied: tzdata>=2022.7 in /usr/local/lib/python3.11/dist-packages (from pandas) (2025.2)\n",
            "Requirement already satisfied: charset-normalizer<4,>=2 in /usr/local/lib/python3.11/dist-packages (from requests) (3.4.2)\n",
            "Requirement already satisfied: idna<4,>=2.5 in /usr/local/lib/python3.11/dist-packages (from requests) (3.10)\n",
            "Requirement already satisfied: urllib3<3,>=1.21.1 in /usr/local/lib/python3.11/dist-packages (from requests) (2.4.0)\n",
            "Requirement already satisfied: certifi>=2017.4.17 in /usr/local/lib/python3.11/dist-packages (from requests) (2025.4.26)\n",
            "Requirement already satisfied: soupsieve>1.2 in /usr/local/lib/python3.11/dist-packages (from beautifulsoup4) (2.7)\n",
            "Requirement already satisfied: typing-extensions>=4.0.0 in /usr/local/lib/python3.11/dist-packages (from beautifulsoup4) (4.14.0)\n",
            "Requirement already satisfied: six>=1.5 in /usr/local/lib/python3.11/dist-packages (from python-dateutil>=2.8.2->pandas) (1.17.0)\n"
          ]
        }
      ],
      "source": [
        "!pip install pandas requests beautifulsoup4 lxml\n"
      ]
    },
    {
      "cell_type": "code",
      "source": [
        "import pandas as pd\n",
        "import requests\n",
        "\n",
        "url = \"https://en.wikipedia.org/wiki/Districts_of_Bangladesh\"\n",
        "response = requests.get(url)\n",
        "\n",
        "# Get all tables from the page\n",
        "tables = pd.read_html(response.text)\n",
        "\n",
        "# Loop through tables to inspect structure\n",
        "for i, table in enumerate(tables):\n",
        "    print(f\"\\n🔹 Table {i} — shape: {table.shape}\")\n",
        "    print(table.head())"
      ],
      "metadata": {
        "colab": {
          "base_uri": "https://localhost:8080/"
        },
        "id": "Yrtl6Zd5edZ2",
        "outputId": "572491e9-0167-405b-8249-ea8634e45267"
      },
      "execution_count": 57,
      "outputs": [
        {
          "output_type": "stream",
          "name": "stdout",
          "text": [
            "\n",
            "🔹 Table 0 — shape: (9, 2)\n",
            "  Districts of Bangladesh Districts of Bangladesh.1\n",
            "0                     NaN                       NaN\n",
            "1                Category  Administrative divisions\n",
            "2                Location                Bangladesh\n",
            "3                 Created                      1972\n",
            "4                  Number                        64\n",
            "\n",
            "🔹 Table 1 — shape: (11, 1)\n",
            "                                                   0\n",
            "0            This article is part of a series on the\n",
            "1                             Politics of Bangladesh\n",
            "2  Constitution Amendments Law of Bangladesh Bang...\n",
            "3  Government President: Mohammed Shahabuddin Chi...\n",
            "4  Parliament Speaker: Vacant Leader of the House...\n",
            "\n",
            "🔹 Table 2 — shape: (65, 9)\n",
            "  Division     District  Map  Est.  Area (km2)[27]  Population (2022)[28]  \\\n",
            "0    Dhaka        Dhaka  NaN  1772            1464               14734025   \n",
            "1    Dhaka     Faridpur  NaN  1815            2053                2162876   \n",
            "2    Dhaka      Tangail  NaN  1969            3414                4037608   \n",
            "3    Dhaka      Gazipur  NaN  1984            1806                5263474   \n",
            "4    Dhaka  Narayanganj  NaN  1984             684                3909138   \n",
            "\n",
            "   Density (/km2)[28]  Seats in Parlament  No. of Upazila [2]  \n",
            "0               10067                  20                   5  \n",
            "1                1054                   4                   9  \n",
            "2                1183                   8                  12  \n",
            "3                2914                   5                   5  \n",
            "4                5712                   5                   5  \n",
            "\n",
            "🔹 Table 3 — shape: (8, 3)\n",
            "  vte Divisions and districts of Bangladesh  \\\n",
            "0                          Barisal Division   \n",
            "1                       Chittagong Division   \n",
            "2                            Dhaka Division   \n",
            "3                           Khulna Division   \n",
            "4                       Mymensingh Division   \n",
            "\n",
            "         vte Divisions and districts of Bangladesh.1  \\\n",
            "0  Barguna Barishal Bhola Jhalokati Patuakhali Pi...   \n",
            "1  Bandarban Brahmanbaria Chandpur Chattogram Cum...   \n",
            "2  Dhaka Faridpur Gazipur Gopalganj Kishoreganj M...   \n",
            "3  Bagerhat Chuadanga Jashore Jhenaidah Khulna Ku...   \n",
            "4              Jamalpur Mymensingh Netrokona Sherpur   \n",
            "\n",
            "   vte Divisions and districts of Bangladesh.2  \n",
            "0                                          NaN  \n",
            "1                                          NaN  \n",
            "2                                          NaN  \n",
            "3                                          NaN  \n",
            "4                                          NaN  \n",
            "\n",
            "🔹 Table 4 — shape: (2, 2)\n",
            "  vteArticles on second-level administrative divisions of Asian countries  \\\n",
            "0  Afghanistan Bangladesh Bhutan block municipali...                        \n",
            "1  Table of administrative divisions by country 1...                        \n",
            "\n",
            "  vteArticles on second-level administrative divisions of Asian countries.1  \n",
            "0  Afghanistan Bangladesh Bhutan block municipali...                         \n",
            "1  Table of administrative divisions by country 1...                         \n",
            "\n",
            "🔹 Table 5 — shape: (22, 2)\n",
            "                              vteBangladesh articles  \\\n",
            "0                                            History   \n",
            "1  Timeline Outline Topics: Bengal Aviation Liter...   \n",
            "2  Ancient Vedic period Anga Vanga Pundra Suhma k...   \n",
            "3                                            Ancient   \n",
            "4                             Classical and Medieval   \n",
            "\n",
            "                            vteBangladesh articles.1  \n",
            "0  Timeline Outline Topics: Bengal Aviation Liter...  \n",
            "1  Timeline Outline Topics: Bengal Aviation Liter...  \n",
            "2  Ancient Vedic period Anga Vanga Pundra Suhma k...  \n",
            "3  Vedic period Anga Vanga Pundra Suhma kingdom M...  \n",
            "4  Founding kingdom: Gauda Kingdom Classical empi...  \n",
            "\n",
            "🔹 Table 6 — shape: (7, 2)\n",
            "                                                   0  \\\n",
            "0  Timeline Outline Topics: Bengal Aviation Liter...   \n",
            "1  Ancient Vedic period Anga Vanga Pundra Suhma k...   \n",
            "2                                            Ancient   \n",
            "3                             Classical and Medieval   \n",
            "4                          Colonial and Pakistan era   \n",
            "\n",
            "                                                   1  \n",
            "0  Timeline Outline Topics: Bengal Aviation Liter...  \n",
            "1  Ancient Vedic period Anga Vanga Pundra Suhma k...  \n",
            "2  Vedic period Anga Vanga Pundra Suhma kingdom M...  \n",
            "3  Founding kingdom: Gauda Kingdom Classical empi...  \n",
            "4  Portuguese Bengala British Bengal: Famine of 1...  \n",
            "\n",
            "🔹 Table 7 — shape: (5, 2)\n",
            "                           0  \\\n",
            "0                    Ancient   \n",
            "1     Classical and Medieval   \n",
            "2  Colonial and Pakistan era   \n",
            "3     Republic of Bangladesh   \n",
            "4                   Regional   \n",
            "\n",
            "                                                   1  \n",
            "0  Vedic period Anga Vanga Pundra Suhma kingdom M...  \n",
            "1  Founding kingdom: Gauda Kingdom Classical empi...  \n",
            "2  Portuguese Bengala British Bengal: Famine of 1...  \n",
            "3  Famine of 1974 Military coups 1975 1981 1982 1...  \n",
            "4   Chittagong Dhaka Jessore Noakhali Rangpur Sylhet  \n",
            "\n",
            "🔹 Table 8 — shape: (1, 2)\n",
            "                                                   0  \\\n",
            "0  Administrative: Divisions Districts Sub-distri...   \n",
            "\n",
            "                                                   1  \n",
            "0  Administrative: Divisions Districts Sub-distri...  \n",
            "\n",
            "🔹 Table 9 — shape: (3, 2)\n",
            "                                                   0  \\\n",
            "0  Government Executive: President List Prime Min...   \n",
            "1                                         Government   \n",
            "2                           Military and enforcement   \n",
            "\n",
            "                                                   1  \n",
            "0  Government Executive: President List Prime Min...  \n",
            "1  Executive: President List Prime Minister List ...  \n",
            "2  Armed Forces: Army Navy Air Force Paramilitary...  \n",
            "\n",
            "🔹 Table 10 — shape: (2, 2)\n",
            "                          0                                                  1\n",
            "0                Government  Executive: President List Prime Minister List ...\n",
            "1  Military and enforcement  Armed Forces: Army Navy Air Force Paramilitary...\n",
            "\n",
            "🔹 Table 11 — shape: (1, 2)\n",
            "                                                   0  \\\n",
            "0  Bangladesh Planning Commission Industries: Aut...   \n",
            "\n",
            "                                                   1  \n",
            "0  Bangladesh Planning Commission Industries: Aut...  \n",
            "\n",
            "🔹 Table 12 — shape: (4, 2)\n",
            "                                                   0  \\\n",
            "0  Demographics Ethnic groups Bangladeshis Bengal...   \n",
            "1                                       Demographics   \n",
            "2                                            Culture   \n",
            "3                                            Symbols   \n",
            "\n",
            "                                                   1  \n",
            "0  Demographics Ethnic groups Bangladeshis Bengal...  \n",
            "1  Ethnic groups Bangladeshis Bengalis Names Crim...  \n",
            "2  Architecture Bangaliana Baul Bangladeshi natio...  \n",
            "3  Amar Shonar Bangla Bangamata Bengal fire Benga...  \n",
            "\n",
            "🔹 Table 13 — shape: (3, 2)\n",
            "              0                                                  1\n",
            "0  Demographics  Ethnic groups Bangladeshis Bengalis Names Crim...\n",
            "1       Culture  Architecture Bangaliana Baul Bangladeshi natio...\n",
            "2       Symbols  Amar Shonar Bangla Bangamata Bengal fire Benga...\n"
          ]
        },
        {
          "output_type": "stream",
          "name": "stderr",
          "text": [
            "<ipython-input-57-2221457803>:8: FutureWarning: Passing literal html to 'read_html' is deprecated and will be removed in a future version. To read from a literal string, wrap it in a 'StringIO' object.\n",
            "  tables = pd.read_html(response.text)\n"
          ]
        }
      ]
    },
    {
      "cell_type": "code",
      "source": [
        "districts_df = tables[2]  # Use correct index you find above\n",
        "\n",
        "# Print current columns to confirm\n",
        "print(districts_df.columns)\n",
        "\n",
        "# Optional: Rename only if the number of columns matches\n",
        "if len(districts_df.columns) == 7:\n",
        "    districts_df.columns = ['District', 'Bangla Name', 'Division', 'Established', 'Area (km²)', 'Population (2022 Census)', 'Density (/km²)']\n",
        "\n",
        "# Save files\n",
        "districts_df.to_csv(\"districts_of_bangladesh.csv\", index=False)\n",
        "districts_df.to_json(\"districts_of_bangladesh.json\", orient='records')\n",
        "\n",
        "print(\"✅ Data saved to CSV and JSON successfully.\")"
      ],
      "metadata": {
        "colab": {
          "base_uri": "https://localhost:8080/"
        },
        "id": "ttcvWeihefDA",
        "outputId": "432412f1-58d1-4bc5-d547-8595d49c1222"
      },
      "execution_count": 58,
      "outputs": [
        {
          "output_type": "stream",
          "name": "stdout",
          "text": [
            "Index(['Division', 'District', 'Map', 'Est.', 'Area (km2)[27]',\n",
            "       'Population (2022)[28]', 'Density (/km2)[28]', 'Seats in Parlament',\n",
            "       'No. of Upazila [2]'],\n",
            "      dtype='object')\n",
            "✅ Data saved to CSV and JSON successfully.\n"
          ]
        }
      ]
    }
  ]
}